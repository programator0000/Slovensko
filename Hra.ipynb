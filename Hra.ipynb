{
  "nbformat": 4,
  "nbformat_minor": 0,
  "metadata": {
    "colab": {
      "provenance": [],
      "authorship_tag": "ABX9TyPQOUBVXwDpB9Zndr2e93rL",
      "include_colab_link": true
    },
    "kernelspec": {
      "name": "python3",
      "display_name": "Python 3"
    },
    "language_info": {
      "name": "python"
    }
  },
  "cells": [
    {
      "cell_type": "markdown",
      "metadata": {
        "id": "view-in-github",
        "colab_type": "text"
      },
      "source": [
        "<a href=\"https://colab.research.google.com/github/programator0000/Slovensko/blob/main/Hra.ipynb\" target=\"_parent\"><img src=\"https://colab.research.google.com/assets/colab-badge.svg\" alt=\"Open In Colab\"/></a>"
      ]
    },
    {
      "cell_type": "code",
      "execution_count": null,
      "metadata": {
        "id": "oaE8PQHTfP24"
      },
      "outputs": [],
      "source": []
    },
    {
      "cell_type": "markdown",
      "source": [
        "# Tvorba hry\n",
        "Pribeh s dvoma moznostami na konci 2. Po vyberu sa vytvoria dalsie casti pribehu.\n",
        "Vzdy je len jedna moznost spravna.\n"
      ],
      "metadata": {
        "id": "3JN4dw4Tf7jH"
      }
    },
    {
      "cell_type": "code",
      "source": [
        "# prompt: Pribeh s dvoma moznostami na konci 2. Po vyberu sa vytvoria dalsie casti pribehu. Vzdy je len jedna moznost spravna.\n",
        "\n",
        "def pribeh():\n",
        "    print(\"Vitaj v mojom príbehu!\")\n",
        "    print(\"Si na križovatke. Cesta pred tebou vedie do hustého lesa, kým cesta vpravo vedie do malej dediny.\")\n",
        "\n",
        "    volba1 = input(\"Akou cestou sa vydáš? (les/dedina): \").lower()\n",
        "\n",
        "    if volba1 == \"les\":\n",
        "        print(\"\\nVydal si sa do lesa. Cesta je tmavá a čoskoro sa stratíš.\")\n",
        "        print(\"Narazíš na jaskyňu. Je v nej svetlo.\")\n",
        "        volba2_les = input(\"Vstúpiš do jaskyne? (áno/nie): \").lower()\n",
        "\n",
        "        if volba2_les == \"áno\":\n",
        "            print(\"\\nVstúpil si do jaskyne. Je plná pokladov! Zbohatol si!\")\n",
        "        elif volba2_les == \"nie\":\n",
        "            print(\"\\nRozhodol si sa nevstúpiť. Potuluješ sa lesom, kým ťa nezapadne noc. Zomrel si od zimy.\")\n",
        "        else:\n",
        "            print(\"Nerozumiem tvojej voľbe. Hra končí.\")\n",
        "\n",
        "    elif volba1 == \"dedina\":\n",
        "        print(\"\\nVydal si sa do dediny. Je to pokojné miesto, ale nikto ťa nevíta.\")\n",
        "        print(\"Uvidíš starú čarodejnicu, ktorá ti ponúka nápoj.\")\n",
        "        volba2_dedina = input(\"Prijmeš nápoj od čarodejnice? (áno/nie): \").lower()\n",
        "\n",
        "        if volba2_dedina == \"áno\":\n",
        "            print(\"\\nVypil si nápoj. Bol to jed! Zomrel si.\")\n",
        "        elif volba2_dedina == \"nie\":\n",
        "            print(\"\\nOdmietol si nápoj. Čarodejnica sa nahnevá a premení ťa na žabu.\")\n",
        "        else:\n",
        "            print(\"Nerozumiem tvojej voľbe. Hra končí.\")\n",
        "\n",
        "    else:\n",
        "        print(\"Nerozumiem tvojej voľbe. Hra končí.\")\n",
        "\n",
        "pribeh()\n"
      ],
      "metadata": {
        "colab": {
          "base_uri": "https://localhost:8080/"
        },
        "id": "udZtvyeohd0-",
        "outputId": "66176010-3bb4-4c34-d1bb-7917cc623a03"
      },
      "execution_count": 1,
      "outputs": [
        {
          "output_type": "stream",
          "name": "stdout",
          "text": [
            "Vitaj v mojom príbehu!\n",
            "Si na križovatke. Cesta pred tebou vedie do hustého lesa, kým cesta vpravo vedie do malej dediny.\n",
            "Akou cestou sa vydáš? (les/dedina): les\n",
            "\n",
            "Vydal si sa do lesa. Cesta je tmavá a čoskoro sa stratíš.\n",
            "Narazíš na jaskyňu. Je v nej svetlo.\n",
            "Vstúpiš do jaskyne? (áno/nie): nie\n",
            "\n",
            "Rozhodol si sa nevstúpiť. Potuluješ sa lesom, kým ťa nezapadne noc. Zomrel si od zimy.\n"
          ]
        }
      ]
    },
    {
      "cell_type": "code",
      "source": [],
      "metadata": {
        "id": "exBIiTishIgJ"
      },
      "execution_count": null,
      "outputs": []
    }
  ]
}