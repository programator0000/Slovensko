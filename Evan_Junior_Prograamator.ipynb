{
  "nbformat": 4,
  "nbformat_minor": 0,
  "metadata": {
    "colab": {
      "provenance": [],
      "toc_visible": true,
      "authorship_tag": "ABX9TyMdp0zbzdYJ9N0qNGPO6Eni",
      "include_colab_link": true
    },
    "kernelspec": {
      "name": "python3",
      "display_name": "Python 3"
    },
    "language_info": {
      "name": "python"
    }
  },
  "cells": [
    {
      "cell_type": "markdown",
      "metadata": {
        "id": "view-in-github",
        "colab_type": "text"
      },
      "source": [
        "<a href=\"https://colab.research.google.com/github/programator0000/Slovensko/blob/main/Evan_Junior_Prograamator.ipynb\" target=\"_parent\"><img src=\"https://colab.research.google.com/assets/colab-badge.svg\" alt=\"Open In Colab\"/></a>"
      ]
    },
    {
      "cell_type": "markdown",
      "source": [
        "#Tvoj cieľ?Uhádnúť tajné päťpísmenové slovo v 6 pokusoch.\n",
        "Každý ťah ti prezradí ako blízko si k víťazstvu: <br>\n",
        "<div>\n",
        "✅*Zelené písmeno?Výborne-správne písmeno na správnom mieste*<br>\n",
        "✌*Žlté?Je tam, ale nie tam, kde má byť.*<br>\n",
        "❌*Sivé?Skús to inak!*<br>\n",
        "Pripravený na dnešné slovo?Klikni a hraj!\n",
        "</div>"
      ],
      "metadata": {
        "id": "5Y5soZVksmlv"
      }
    },
    {
      "cell_type": "code",
      "source": [
        "# prompt: nastyluj text farebne a zmen typ pisma nech to pekne vyzera\n",
        "\n",
        "from IPython.display import display, HTML\n",
        "\n",
        "text = \"\"\"\n",
        "<style>\n",
        "  body {\n",
        "    font-family: 'Arial', sans-serif;\n",
        "  }\n",
        "  .green {\n",
        "    color: green;\n",
        "    font-weight: bold;\n",
        "  }\n",
        "  .yellow {\n",
        "    color: orange;\n",
        "    font-weight: bold;\n",
        "  }\n",
        "  .gray {\n",
        "    color: gray;\n",
        "    font-weight: bold;\n",
        "  }\n",
        "  .instructions {\n",
        "      margin-bottom: 15px;\n",
        "  }\n",
        "</style>\n",
        "\n",
        "<div class=\"instructions\">\n",
        "  <h2>Tvoj cieľ? Uhádnúť tajné päťpísmenové slovo v 6 pokusoch.</h2>\n",
        "  <p>Každý ťah ti prezradí ako blízko si k víťazstvu:</p>\n",
        "</div>\n",
        "<div>\n",
        "  <p><span class=\"green\">✅ Zelené písmeno?</span> Výborne - správne písmeno na správnom mieste</p>\n",
        "  <p><span class=\"yellow\">✌ Žlté?</span> Je tam, ale nie tam, kde má byť.</p>\n",
        "  <p><span class=\"gray\">❌ Sivé?</span> Skús to inak!</p>\n",
        "</div>\n",
        "<p>Pripravený na dnešné slovo? Klikni a hraj!</p>\n",
        "\"\"\"\n",
        "\n",
        "display(HTML(text))"
      ],
      "metadata": {
        "colab": {
          "base_uri": "https://localhost:8080/",
          "height": 192
        },
        "id": "111vOhBIw5T7",
        "outputId": "2a72dafe-0054-4903-e6ee-177499d12219"
      },
      "execution_count": 12,
      "outputs": [
        {
          "output_type": "display_data",
          "data": {
            "text/plain": [
              "<IPython.core.display.HTML object>"
            ],
            "text/html": [
              "\n",
              "<style>\n",
              "  body {\n",
              "    font-family: 'Arial', sans-serif;\n",
              "  }\n",
              "  .green {\n",
              "    color: green;\n",
              "    font-weight: bold;\n",
              "  }\n",
              "  .yellow {\n",
              "    color: orange;\n",
              "    font-weight: bold;\n",
              "  }\n",
              "  .gray {\n",
              "    color: gray;\n",
              "    font-weight: bold;\n",
              "  }\n",
              "  .instructions {\n",
              "      margin-bottom: 15px;\n",
              "  }\n",
              "</style>\n",
              "\n",
              "<div class=\"instructions\">\n",
              "  <h2>Tvoj cieľ? Uhádnúť tajné päťpísmenové slovo v 6 pokusoch.</h2>\n",
              "  <p>Každý ťah ti prezradí ako blízko si k víťazstvu:</p>\n",
              "</div>\n",
              "<div>\n",
              "  <p><span class=\"green\">✅ Zelené písmeno?</span> Výborne - správne písmeno na správnom mieste</p>\n",
              "  <p><span class=\"yellow\">✌ Žlté?</span> Je tam, ale nie tam, kde má byť.</p>\n",
              "  <p><span class=\"gray\">❌ Sivé?</span> Skús to inak!</p>\n",
              "</div>\n",
              "<p>Pripravený na dnešné slovo? Klikni a hraj!</p>\n"
            ]
          },
          "metadata": {}
        }
      ]
    },
    {
      "cell_type": "code",
      "execution_count": 6,
      "metadata": {
        "id": "zho6g3cPrKhZ"
      },
      "outputs": [],
      "source": [
        "\n",
        "\n"
      ]
    }
  ]
}